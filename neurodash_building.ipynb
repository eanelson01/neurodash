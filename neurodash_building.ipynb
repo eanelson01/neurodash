{
 "cells": [
  {
   "cell_type": "code",
   "execution_count": 1,
   "id": "41e5b23f-b9cb-47df-a2b1-510a9851ba99",
   "metadata": {},
   "outputs": [
    {
     "ename": "ModuleNotFoundError",
     "evalue": "No module named 'dash_daq'",
     "output_type": "error",
     "traceback": [
      "\u001b[0;31m---------------------------------------------------------------------------\u001b[0m",
      "\u001b[0;31mModuleNotFoundError\u001b[0m                       Traceback (most recent call last)",
      "Cell \u001b[0;32mIn[1], line 5\u001b[0m\n\u001b[1;32m      3\u001b[0m \u001b[38;5;28;01mimport\u001b[39;00m \u001b[38;5;21;01mdash\u001b[39;00m\n\u001b[1;32m      4\u001b[0m \u001b[38;5;28;01mfrom\u001b[39;00m \u001b[38;5;21;01mdash\u001b[39;00m \u001b[38;5;28;01mimport\u001b[39;00m dcc\n\u001b[0;32m----> 5\u001b[0m \u001b[38;5;28;01mimport\u001b[39;00m \u001b[38;5;21;01mdash_daq\u001b[39;00m \u001b[38;5;28;01mas\u001b[39;00m \u001b[38;5;21;01mdaq\u001b[39;00m\n\u001b[1;32m      6\u001b[0m \u001b[38;5;28;01mfrom\u001b[39;00m \u001b[38;5;21;01mdash\u001b[39;00m \u001b[38;5;28;01mimport\u001b[39;00m html\n\u001b[1;32m      7\u001b[0m \u001b[38;5;28;01mfrom\u001b[39;00m \u001b[38;5;21;01mdash\u001b[39;00m \u001b[38;5;28;01mimport\u001b[39;00m dash_table\n",
      "\u001b[0;31mModuleNotFoundError\u001b[0m: No module named 'dash_daq'"
     ]
    }
   ],
   "source": [
    "import numpy as np\n",
    "import pandas as pd\n",
    "import dash\n",
    "from dash import dcc\n",
    "import dash_daq as daq\n",
    "from dash import html\n",
    "from dash import dash_table\n",
    "from dash.dependencies import Input, Output\n",
    "import psycopg2\n",
    "from sqlalchemy import create_engine\n",
    "from matplotlib import pyplot as plt\n",
    "import os\n",
    "import plotly.figure_factory as ff\n",
    "import plotly.express as px\n",
    "POSTGRES_PASSWORD = os.getenv('POSTGRES_PASSWORD')\n",
    "import dash_bootstrap_components as dbc"
   ]
  },
  {
   "cell_type": "code",
   "execution_count": null,
   "id": "83f16b1b-5f21-4445-9f87-73b2ab2891ea",
   "metadata": {},
   "outputs": [],
   "source": [
    "engine = create_engine('postgresql+psycopg2://{user}:{password}@{host}:{port}/{db}'.format(\n",
    "    user = 'postgres',\n",
    "    password = POSTGRES_PASSWORD,\n",
    "    host = 'postgres',\n",
    "    port = 5432,\n",
    "    db = 'neurodash'\n",
    "))"
   ]
  },
  {
   "cell_type": "code",
   "execution_count": null,
   "id": "632cac72-6846-4374-90bf-3eff76bd8de1",
   "metadata": {},
   "outputs": [],
   "source": [
    "external_stylesheets = [dbc.themes.BOOTSTRAP]"
   ]
  },
  {
   "cell_type": "code",
   "execution_count": null,
   "id": "38d6a12a-93e8-469c-a92e-40961e51aade",
   "metadata": {},
   "outputs": [],
   "source": [
    "data['neuron_id'].value_counts()"
   ]
  },
  {
   "cell_type": "code",
   "execution_count": null,
   "id": "6f9c576b-8832-4cdd-8d64-1bbe7476db28",
   "metadata": {},
   "outputs": [],
   "source": [
    "with pd.option_context('display.max_rows', None, 'display.max_columns', None):\n",
    "    display(data.dtypes)"
   ]
  },
  {
   "cell_type": "code",
   "execution_count": null,
   "id": "9d63fd42-4eb3-40d7-bbd4-d374d0e0d0c0",
   "metadata": {},
   "outputs": [],
   "source": [
    "mymarkdown = '''\n",
    "NeuroDash is a dashboard to view the current neuroscience literature. The data for this dashobard come from [NeuroMorpho](https://neuromorpho.org/), [NeuroElectro](https://neuroelectro.org/), and [ModelDB](https://modeldb.science/). NeuroMorpho provides morphological data for neurons researchers find. NeuroElectro provides information about the electrophysiological properties of neurons found in the literature. Lastly, ModelDB provides information about computation neual models that researchers have created. These resources combine to illustrate research trends and findings in Neuroscience. They can serve as a jumping off point for someone looking to do their own research.\n",
    "'''"
   ]
  },
  {
   "cell_type": "code",
   "execution_count": null,
   "id": "ce74e656-2bf2-447a-83d4-7a39f0454b3b",
   "metadata": {},
   "outputs": [],
   "source": [
    "myquery = '''\n",
    "SELECT primary_brain_region, \n",
    "    COUNT(*) AS n_neurons\n",
    "FROM neuron\n",
    "GROUP BY primary_brain_region\n",
    "ORDER BY n_neurons\n",
    "    DESC\n",
    "'''\n",
    "data = pd.read_sql_query(myquery, con = engine)\n",
    "primary_brain_regions = [x for x in data['primary_brain_region']].remove(None)"
   ]
  },
  {
   "cell_type": "code",
   "execution_count": null,
   "id": "8d88f761-2283-4259-a14b-7c189739d5c9",
   "metadata": {},
   "outputs": [],
   "source": [
    "measurements = ['soma_surface', 'n_stems', 'n_bifs', 'n_branch', 'width', 'height', 'depth', 'diameter', 'length']"
   ]
  },
  {
   "cell_type": "code",
   "execution_count": null,
   "id": "8202d98c-2e4c-4021-8ab8-ad250d3a35cd",
   "metadata": {},
   "outputs": [],
   "source": [
    "app = dash.Dash(__name__, external_stylesheets=external_stylesheets)\n",
    "\n",
    "app.layout = html.Div(\n",
    "    [\n",
    "        html.H1(\"NeuroDash\"),\n",
    "        html.H2(\"Data collected from NeuroMorpho, NeuroElectro, & ModelDB\"),\n",
    "        html.H3(\"DS 6600: Data Engineering 1, UVA Data Science\"),\n",
    "        html.Div([\n",
    "            dcc.Markdown('''Pick a Primary Brain Region to Study'''),\n",
    "            dcc.Dropdown(id = 'primary_brain_region', options = primary_brain_regions, value = 'neocortex'),\n",
    "            dcc.Markdown(mymarkdown)\n",
    "        ], style = {'width': '24%', 'float': 'left'}),\n",
    "        html.Div([\n",
    "            dcc.Tabs([\n",
    "                dcc.Tab(label = 'NeuroMorpho', children = [\n",
    "                    # stuff for NeuroMorpho Goes Here\n",
    "                    dcc.Markdown('''Select a Measure to Graph:'''),\n",
    "                    dcc.Dropdown(id = 'measurement', options = measurements, value = 'soma_surface'),\n",
    "                    daq.BooleanSwitch(id = 'log', label = 'Logarithmic Measurement', on = False),\n",
    "                    dcc.Graph(id = 'NeuronMeasurementGraph'),\n",
    "                    html.Div([dcc.Graph(id = 'NeuronRegionTable')])\n",
    "                ]),\n",
    "                dcc.Tab(label = 'NeuroElectro', children = [\n",
    "                    # stuff for NeuroElectro goes Here\n",
    "                    \n",
    "                ]),\n",
    "                dcc.Tab(label = 'ModelDB', children = [\n",
    "                    # stuff for ModelDB goes here\n",
    "                    \n",
    "                ])\n",
    "            ])\n",
    "        ], style = {'width': '74%', 'float': 'right'})\n",
    "    ]\n",
    ")\n",
    "\n",
    "@app.callback([Output(component_id = 'NeuronRegionTable', component_property = 'figure')],\n",
    "             [Input(component_id = 'primary_brain_region', component_property = 'value')])\n",
    "\n",
    "def NeuronRegionTable(primary_brain_region):\n",
    "    myquery = f'''\n",
    "    SELECT ROUND(AVG(soma_surface)) AS soma_surface,\n",
    "        ROUND(AVG(n_stems)) AS number_stems,\n",
    "        ROUND(AVG(n_bifs)) AS number_biffurcations,\n",
    "        ROUND(AVG(n_branch)) AS number_branches,\n",
    "        ROUND(AVG(width)) AS width,\n",
    "        ROUND(AVG(height)) AS height,\n",
    "        ROUND(AVG(depth)) AS depth,\n",
    "        ROUND(AVG(diameter)) AS diameter,\n",
    "        ROUND(AVG(length)) AS length\n",
    "    FROM neuron\n",
    "    WHERE primary_brain_region = '{primary_brain_region}'\n",
    "    '''\n",
    "    data = pd.read_sql_query(myquery, con = engine)\n",
    "    data['primary_brain_region'] = pd.Series([primary_brain_region])\n",
    "    \n",
    "    table = ff.create_table(data[['primary_brain_region', 'soma_surface', 'number_stems', 'number_biffurcations',\n",
    "       'number_branches', 'width', 'height', 'depth', 'diameter', 'length']])\n",
    "    return [table]\n",
    "\n",
    "@app.callback([Output(component_id = 'NeuronMeasurementGraph', component_property = 'figure')],\n",
    "             [Input(component_id = 'primary_brain_region', component_property = 'value'),\n",
    "             Input(component_id = 'measurement', component_property = 'value'),\n",
    "             Input(component_id = 'log', component_property = 'on')])\n",
    "\n",
    "def NeuronMeasurement(primary_brain_region, measurement, log):\n",
    "    myquery = f'''\n",
    "    SELECT {measurement}\n",
    "    FROM neuron\n",
    "    WHERE primary_brain_region = '{primary_brain_region}'\n",
    "    '''\n",
    "    data = pd.read_sql_query(myquery, con = engine)\n",
    "    title = 'Box plot for Neuron ' + measurement + ' in the ' + primary_brain_region\n",
    "    if log:\n",
    "        xaxis = 'Log Measurement of ' + measurement\n",
    "    else:\n",
    "        xaxis = measurement\n",
    "    fig = px.box(x = data[measurement], log_x = log, title = title)\n",
    "    fig.update_layout(xaxis_title = xaxis)\n",
    "\n",
    "    return [fig]\n",
    "\n",
    "# Execution\n",
    "if __name__ == \"__main__\":\n",
    "    app.run_server(mode='external', host = '0.0.0.0', port = 8050, debug = True)"
   ]
  },
  {
   "cell_type": "code",
   "execution_count": null,
   "id": "1368d815-4b62-4879-8a4b-796ab1d784d2",
   "metadata": {},
   "outputs": [],
   "source": [
    "primary_brain_region = 'neocortex'\n",
    "myquery = f'''\n",
    "SELECT *\n",
    "FROM neuron\n",
    "WHERE primary_brain_region = '{primary_brain_region}'\n",
    "'''\n",
    "data = pd.read_sql_query(myquery, con = engine)"
   ]
  },
  {
   "cell_type": "code",
   "execution_count": null,
   "id": "b099e4c7-d159-4c1b-99ef-ac41fb08c156",
   "metadata": {},
   "outputs": [],
   "source": [
    "neuron_columns = [x for x in data.columns]"
   ]
  },
  {
   "cell_type": "code",
   "execution_count": null,
   "id": "d407ba4c-a834-4bb5-bdbc-d32ac418b3f1",
   "metadata": {},
   "outputs": [],
   "source": [
    "data.columns"
   ]
  },
  {
   "cell_type": "code",
   "execution_count": null,
   "id": "9d7c0392-cc0f-41ca-b157-e3fb2dd77b9a",
   "metadata": {},
   "outputs": [],
   "source": [
    "# gender, age_classification, species, png_url, primary_brain_region, dendrites, soma, axon, processes, neurites, soma_surface, n_stems, n_biffs, n_branch, width, height, depth, diameter, length\n",
    "primary_brain_region = 'neocortex'\n",
    "myquery = f'''\n",
    "SELECT ROUND(AVG(soma_surface)) AS soma_surface,\n",
    "    ROUND(AVG(n_stems)) AS number_stems,\n",
    "    ROUND(AVG(n_bifs)) AS number_biffurcations,\n",
    "    ROUND(AVG(n_branch)) AS number_branches,\n",
    "    ROUND(AVG(width)) AS width,\n",
    "    ROUND(AVG(height)) AS height,\n",
    "    ROUND(AVG(depth)) AS depth,\n",
    "    ROUND(AVG(diameter)) AS diameter,\n",
    "    ROUND(AVG(length)) AS length\n",
    "FROM neuron\n",
    "WHERE primary_brain_region = '{primary_brain_region}'\n",
    "'''\n",
    "data = pd.read_sql_query(myquery, con = engine)\n",
    "data['primary_brain_region'] = pd.Series([primary_brain_region])\n",
    "\n",
    "table = ff.create_table(data[['primary_brain_region', 'soma_surface', 'number_stems', 'number_biffurcations',\n",
    "   'number_branches', 'width', 'height', 'depth', 'diameter', 'length']])"
   ]
  },
  {
   "cell_type": "code",
   "execution_count": null,
   "id": "94c4f026-3966-4ffc-b35f-8b10f8160f48",
   "metadata": {},
   "outputs": [],
   "source": [
    "primary_brain_region = 'neocortex'\n",
    "measurement = 'height'\n",
    "log = True\n",
    "myquery = f'''\n",
    "SELECT {measurement}\n",
    "FROM neuron\n",
    "WHERE primary_brain_region = '{primary_brain_region}'\n",
    "'''\n",
    "data = pd.read_sql_query(myquery, con = engine)\n",
    "title = 'Box plot for Neuron ' + measurement + ' in the ' + primary_brain_region\n",
    "if log:\n",
    "    xaxis = 'Log Measurement of ' + measurement\n",
    "else:\n",
    "    xaxis = measurement\n",
    "fig = px.box(x = data[measurement], log_x = log, title = title)\n",
    "fig.update_layout(xaxis_title = xaxis)"
   ]
  }
 ],
 "metadata": {
  "kernelspec": {
   "display_name": "Python 3 (ipykernel)",
   "language": "python",
   "name": "python3"
  },
  "language_info": {
   "codemirror_mode": {
    "name": "ipython",
    "version": 3
   },
   "file_extension": ".py",
   "mimetype": "text/x-python",
   "name": "python",
   "nbconvert_exporter": "python",
   "pygments_lexer": "ipython3",
   "version": "3.11.4"
  }
 },
 "nbformat": 4,
 "nbformat_minor": 5
}
