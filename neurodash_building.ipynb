{
 "cells": [
  {
   "cell_type": "code",
   "execution_count": 1,
   "id": "41e5b23f-b9cb-47df-a2b1-510a9851ba99",
   "metadata": {},
   "outputs": [],
   "source": [
    "import numpy as np\n",
    "import pandas as pd\n",
    "import dash\n",
    "from dash import dcc\n",
    "import dash_daq as daq\n",
    "from dash import html\n",
    "from dash import dash_table\n",
    "from dash.dependencies import Input, Output\n",
    "import psycopg2\n",
    "from sqlalchemy import create_engine\n",
    "from matplotlib import pyplot as plt\n",
    "import os\n",
    "import plotly.figure_factory as ff\n",
    "import plotly.express as px\n",
    "POSTGRES_PASSWORD = os.getenv('POSTGRES_PASSWORD')\n",
    "import dash_bootstrap_components as dbc"
   ]
  },
  {
   "cell_type": "code",
   "execution_count": 2,
   "id": "83f16b1b-5f21-4445-9f87-73b2ab2891ea",
   "metadata": {},
   "outputs": [],
   "source": [
    "engine = create_engine('postgresql+psycopg2://{user}:{password}@{host}:{port}/{db}'.format(\n",
    "    user = 'postgres',\n",
    "    password = POSTGRES_PASSWORD,\n",
    "    host = 'postgres',\n",
    "    port = 5432,\n",
    "    db = 'neurodash'\n",
    "))"
   ]
  },
  {
   "cell_type": "code",
   "execution_count": 3,
   "id": "632cac72-6846-4374-90bf-3eff76bd8de1",
   "metadata": {},
   "outputs": [],
   "source": [
    "external_stylesheets = [dbc.themes.BOOTSTRAP]"
   ]
  },
  {
   "cell_type": "code",
   "execution_count": 4,
   "id": "9d63fd42-4eb3-40d7-bbd4-d374d0e0d0c0",
   "metadata": {},
   "outputs": [],
   "source": [
    "mymarkdown = '''\n",
    "NeuroDash is a dashboard to view the current neuroscience literature. The data for this dashobard come from [NeuroMorpho](https://neuromorpho.org/), [NeuroElectro](https://neuroelectro.org/), and [ModelDB](https://modeldb.science/). NeuroMorpho provides morphological data for neurons researchers find. NeuroElectro provides information about the electrophysiological properties of neurons found in the literature. Lastly, ModelDB provides information about computation neual models that researchers have created. These resources combine to illustrate research trends and findings in Neuroscience. They can serve as a jumping off point for someone looking to do their own research.\n",
    "'''"
   ]
  },
  {
   "cell_type": "code",
   "execution_count": 82,
   "id": "ce74e656-2bf2-447a-83d4-7a39f0454b3b",
   "metadata": {},
   "outputs": [
    {
     "name": "stdout",
     "output_type": "stream",
     "text": [
      "\u001b[1;31m---------------------------------------------------------------------------\u001b[0m\n",
      "\u001b[1;31mTypeError\u001b[0m                                 Traceback (most recent call last)\n",
      "\u001b[1;31mTypeError\u001b[0m: can only concatenate str (not \"NoneType\") to str\n",
      "\n"
     ]
    }
   ],
   "source": [
    "myquery = '''\n",
    "SELECT primary_brain_region, \n",
    "    COUNT(*) AS n_neurons\n",
    "FROM neuron\n",
    "WHERE primary_brain_region IS NOT NULL\n",
    "GROUP BY primary_brain_region\n",
    "ORDER BY n_neurons\n",
    "    DESC\n",
    "'''\n",
    "data = pd.read_sql_query(myquery, con = engine)\n",
    "primary_brain_regions = [x for x in data['primary_brain_region']]"
   ]
  },
  {
   "cell_type": "code",
   "execution_count": 6,
   "id": "8d88f761-2283-4259-a14b-7c189739d5c9",
   "metadata": {},
   "outputs": [],
   "source": [
    "measurements = ['soma_surface', 'n_stems', 'n_bifs', 'n_branch', 'width', 'height', 'depth', 'diameter', 'length']"
   ]
  },
  {
   "cell_type": "code",
   "execution_count": 7,
   "id": "6ff06fc2-0c2e-41b8-a6f1-ed528fa200c1",
   "metadata": {},
   "outputs": [],
   "source": [
    "myquery = '''\n",
    "SELECT brainregion\n",
    "FROM electro\n",
    "WHERE brainregion IS NOT NULL\n",
    "GROUP BY brainregion\n",
    "'''\n",
    "electro_regions = pd.read_sql_query(myquery, con = engine)"
   ]
  },
  {
   "cell_type": "markdown",
   "id": "ec1db4ab-344e-4ad2-887d-d19e04ffc4bb",
   "metadata": {},
   "source": [
    "### Exploring how the neuron, electro, models data can combine on \n",
    "* brain_region\n",
    "* pmid\n",
    "* doi\n",
    "* celltype ?"
   ]
  },
  {
   "cell_type": "code",
   "execution_count": 28,
   "id": "2fa576a8-3745-4652-9fad-621966a96cd2",
   "metadata": {},
   "outputs": [],
   "source": [
    "# there are some combos for the brain reigon in neuron to electro (cerebellum, hypothalamus, medulla, thalamus)\n",
    "myquery = '''\n",
    "SELECT n.primary_brain_region,\n",
    "    e.brainregion\n",
    "FROM neuron n\n",
    "INNER JOIN electro e\n",
    "    ON n.primary_brain_region = e.brainregion\n",
    "GROUP BY n.primary_brain_region, \n",
    "    e.brainregion\n",
    "'''\n",
    "n_e_region = pd.read_sql_query(myquery, con = engine)"
   ]
  },
  {
   "cell_type": "code",
   "execution_count": 30,
   "id": "96af17a4-251d-4d1b-8577-d39deea52a7f",
   "metadata": {},
   "outputs": [],
   "source": [
    "n_e_shared_regions = n_e_region['primary_brain_region'].unique()"
   ]
  },
  {
   "cell_type": "code",
   "execution_count": 26,
   "id": "8f151393-169d-4a71-955b-5a2daf3d4cb1",
   "metadata": {},
   "outputs": [],
   "source": [
    "# n_e_region\n",
    "myquery = '''\n",
    "SELECT n.neuron_id,\n",
    "    e.electro_id\n",
    "FROM neuron n\n",
    "INNER JOIN electro e\n",
    "    ON n.primary_brain_region = e.brainregion\n",
    "GROUP BY n.neuron_id,\n",
    "    e.electro_id\n",
    "'''\n",
    "n_e_link_region = pd.read_sql_query(myquery, con = engine)"
   ]
  },
  {
   "cell_type": "code",
   "execution_count": 27,
   "id": "68e49146-5895-4f57-a9ef-a23fa6725510",
   "metadata": {},
   "outputs": [
    {
     "data": {
      "text/plain": [
       "10724"
      ]
     },
     "execution_count": 27,
     "metadata": {},
     "output_type": "execute_result"
    }
   ],
   "source": [
    "# 10724 neurons to electro based on region\n",
    "len(n_e_link_region['neuron_id'].unique())"
   ]
  },
  {
   "cell_type": "code",
   "execution_count": 11,
   "id": "e2d7b377-16e7-48e4-9516-44469757e074",
   "metadata": {},
   "outputs": [],
   "source": [
    "# neuron to electo pmid mapping\n",
    "myquery = '''\n",
    "SELECT j.neuron_id,\n",
    "    e.electro_id\n",
    "FROM electro e\n",
    "INNER JOIN (SELECT *\n",
    "FROM neuron_pmid n\n",
    "INNER JOIN electro_pub e\n",
    "    ON n.reference_pmid = CAST(e.pmid AS VARCHAR)) j\n",
    "    ON CAST(e.pmid AS VARCHAR) = CAST(j.pmid AS VARCHAR)\n",
    "GROUP BY j.neuron_id,\n",
    "    e.electro_id\n",
    "'''\n",
    "n_e_pmid = pd.read_sql_query(myquery, con = engine)"
   ]
  },
  {
   "cell_type": "code",
   "execution_count": 12,
   "id": "1db86e31-cef5-4a99-a4ae-9874c959b0fd",
   "metadata": {},
   "outputs": [
    {
     "data": {
      "text/plain": [
       "939"
      ]
     },
     "execution_count": 12,
     "metadata": {},
     "output_type": "execute_result"
    }
   ],
   "source": [
    "len(n_e_pmid['neuron_id'].unique())"
   ]
  },
  {
   "cell_type": "code",
   "execution_count": 20,
   "id": "68a4e755-ee28-4a7e-97a8-965724bf99a4",
   "metadata": {},
   "outputs": [],
   "source": [
    "myquery = '''\n",
    "SELECT j.model_id, \n",
    "    mr.primary_brain_region\n",
    "FROM (SELECT m.model_id, \n",
    "            mtr.model_region_id\n",
    "        FROM models m\n",
    "        INNER JOIN model_to_region mtr\n",
    "            ON m.model_id = mtr.model_id) j\n",
    "INNER JOIN model_regions mr\n",
    "    ON j.model_region_id = mr.model_region_id\n",
    "'''\n",
    "model_regions = pd.read_sql_query(myquery, con = engine)"
   ]
  },
  {
   "cell_type": "code",
   "execution_count": 19,
   "id": "8b7e3332-62f6-4827-b6fe-f8dae60d02b5",
   "metadata": {},
   "outputs": [],
   "source": [
    "myquery = '''\n",
    "SELECT n.neuron_id,\n",
    "    n.primary_brain_region\n",
    "FROM neuron n\n",
    "'''\n",
    "neuron = pd.read_sql_query(myquery, con = engine)"
   ]
  },
  {
   "cell_type": "code",
   "execution_count": 24,
   "id": "71327043-ba4a-4637-a687-f2d547028de5",
   "metadata": {},
   "outputs": [],
   "source": [
    "n_m_shared_regions = [x for x in neuron['primary_brain_region'].unique() if x in model_regions['primary_brain_region'].unique()]"
   ]
  },
  {
   "cell_type": "code",
   "execution_count": 33,
   "id": "a9a19612-7d13-4a14-a30b-9d711c96adc1",
   "metadata": {},
   "outputs": [],
   "source": [
    "three_shared_regions = [x for x in n_e_shared_regions if x in n_m_regions]"
   ]
  },
  {
   "cell_type": "code",
   "execution_count": null,
   "id": "2aad93a0-cb4e-4d4e-850b-4d7930e7b32e",
   "metadata": {},
   "outputs": [],
   "source": [
    "myquery = '''\n",
    "SELECT n.neuron_id,\n",
    "    k.model_id,\n",
    "    n.primary_brain_region,\n",
    "    k.primary_brain_region\n",
    "FROM neuron n\n",
    "INNER JOIN (SELECT j.model_id, \n",
    "            mr.primary_brain_region\n",
    "        FROM (SELECT m.model_id, \n",
    "                    mtr.model_region_id\n",
    "                FROM models m\n",
    "                INNER JOIN model_to_region mtr\n",
    "                    ON m.model_id = mtr.model_id) j\n",
    "        INNER JOIN model_regions mr\n",
    "            ON j.model_region_id = mr.model_region_id) k\n",
    "    ON n.primary_brain_region = k.primary_brain_region\n",
    "'''\n",
    "pd.read_sql_query(myquery, con = engine)"
   ]
  },
  {
   "cell_type": "code",
   "execution_count": 34,
   "id": "c311f7d7-4598-4b92-a2ed-e64c82bc3297",
   "metadata": {},
   "outputs": [],
   "source": [
    "layout = dcc.Markdown('test')"
   ]
  },
  {
   "cell_type": "code",
   "execution_count": 66,
   "id": "bcbb1357-6268-488b-ab9f-2dda086cf3e0",
   "metadata": {},
   "outputs": [
    {
     "data": {
      "text/plain": [
       "['cerebellum', 'thalamus']"
      ]
     },
     "execution_count": 66,
     "metadata": {},
     "output_type": "execute_result"
    }
   ],
   "source": [
    "three_shared_regions"
   ]
  },
  {
   "cell_type": "code",
   "execution_count": 92,
   "id": "8202d98c-2e4c-4021-8ab8-ad250d3a35cd",
   "metadata": {},
   "outputs": [
    {
     "data": {
      "text/html": [
       "\n",
       "        <iframe\n",
       "            width=\"100%\"\n",
       "            height=\"650\"\n",
       "            src=\"http://0.0.0.0:8050/\"\n",
       "            frameborder=\"0\"\n",
       "            allowfullscreen\n",
       "            \n",
       "        ></iframe>\n",
       "        "
      ],
      "text/plain": [
       "<IPython.lib.display.IFrame at 0xffff4ff06350>"
      ]
     },
     "metadata": {},
     "output_type": "display_data"
    }
   ],
   "source": [
    "app = dash.Dash(__name__, external_stylesheets=external_stylesheets)\n",
    "\n",
    "app.layout = html.Div(\n",
    "    [\n",
    "        html.H1(\"NeuroDash\"),\n",
    "        html.H2(\"Data collected from NeuroMorpho, NeuroElectro, & ModelDB\"),\n",
    "        html.H3(\"DS 6600: Data Engineering 1, UVA Data Science\"),\n",
    "        html.Div([\n",
    "            dcc.Markdown('''**Pick the sources you want to be able to see all data from**'''),\n",
    "            dcc.Checklist(options=[\n",
    "                               {'label': 'NeuroMorpho', 'value': 'NeuroMorpho'},\n",
    "                               {'label': 'NeuroElectro', 'value': 'NeuroElectro'},\n",
    "                               {'label': 'ModelDB', 'value': 'ModelDB'},\n",
    "                           ],\n",
    "                           value=['NeuroMorpho'], id = 'source_checklist'),\n",
    "            dcc.Markdown('''**Pick a Primary Brain Region to Study**'''),\n",
    "            html.Div(id = 'data_source'),\n",
    "            dcc.Markdown(mymarkdown)\n",
    "        ], style = {'width': '24%', 'float': 'left'}),\n",
    "        html.Div([\n",
    "            dcc.Tabs([\n",
    "                dcc.Tab(label = 'NeuroMorpho', children = [\n",
    "                    # stuff for NeuroMorpho Goes Here\n",
    "                    dcc.Tabs([\n",
    "                        dcc.Tab(label = 'Measurements', children = [\n",
    "                            dcc.Markdown('''Select a Measure to Graph:'''),\n",
    "                            dcc.Dropdown(id = 'measurement', options = measurements, value = 'soma_surface'),\n",
    "                            daq.BooleanSwitch(id = 'log', label = 'Logarithmic Measurement', on = False),\n",
    "                            dcc.Graph(id = 'NeuronMeasurementGraph'),\n",
    "                            html.Div([dcc.Graph(id = 'NeuronRegionTable')])\n",
    "                        ]),\n",
    "                        dcc.Tab(label = 'Publications', children = [\n",
    "                            # put stuff for NeuroMorpho publications\n",
    "                        ]),\n",
    "                        dcc.Tab(label = 'Images', children = [\n",
    "                            # put stuff for NeuroMorpho Images\n",
    "                        ])\n",
    "                    ])\n",
    "                ]),\n",
    "                dcc.Tab(label = 'NeuroElectro', children = [\n",
    "                    # stuff for NeuroElectro goes Here\n",
    "                ]),\n",
    "                dcc.Tab(label = 'ModelDB', children = [\n",
    "                    # stuff for ModelDB goes here\n",
    "                    \n",
    "                ])\n",
    "            ])\n",
    "        ], style = {'width': '74%', 'float': 'right'})\n",
    "    ]\n",
    ")\n",
    "\n",
    "@app.callback([Output(component_id = 'NeuronRegionTable', component_property = 'figure')],\n",
    "             [Input(component_id = 'primary_brain_region', component_property = 'value')])\n",
    "\n",
    "def NeuronRegionTable(primary_brain_region):\n",
    "    myquery = f'''\n",
    "    SELECT ROUND(AVG(soma_surface)) AS soma_surface,\n",
    "        ROUND(AVG(n_stems)) AS number_stems,\n",
    "        ROUND(AVG(n_bifs)) AS number_biffurcations,\n",
    "        ROUND(AVG(n_branch)) AS number_branches,\n",
    "        ROUND(AVG(width)) AS width,\n",
    "        ROUND(AVG(height)) AS height,\n",
    "        ROUND(AVG(depth)) AS depth,\n",
    "        ROUND(AVG(diameter)) AS diameter,\n",
    "        ROUND(AVG(length)) AS length\n",
    "    FROM neuron\n",
    "    WHERE primary_brain_region = '{primary_brain_region}'\n",
    "    '''\n",
    "    data = pd.read_sql_query(myquery, con = engine)\n",
    "    data['primary_brain_region'] = pd.Series([primary_brain_region])\n",
    "\n",
    "    data.rename(columns = {'primary_brain_region': 'Region',\n",
    "                'soma_surface': 'Soma Surface',\n",
    "                'number_stems': 'Num Stems',\n",
    "                'number_biffurcations': 'Num Biffurcations',\n",
    "                'number_branches': 'Num Branches',\n",
    "                'width': 'Width',\n",
    "                'height': 'Height',\n",
    "                'depth': 'Depth',\n",
    "                'diameter': 'Diameter',\n",
    "                'length': 'Length'}, inplace = True)\n",
    "    \n",
    "    table = ff.create_table(data[['Region', 'Soma Surface', 'Num Stems', 'Num Biffurcations',\n",
    "       'Num Branches', 'Width', 'Height', 'Depth', 'Diameter', 'Length']])\n",
    "    return [table]\n",
    "\n",
    "@app.callback([Output(component_id = 'data_source', component_property = 'children')],\n",
    "             [Input(component_id = 'source_checklist', component_property = 'value')])\n",
    "def SelectDataSources(s):\n",
    "    if ('NeuroElectro' in s) & ('ModelDB' in s):\n",
    "        options = three_shared_regions\n",
    "    elif ('NeuroElectro' in s) & ('ModelDB' not in s):\n",
    "        options = n_e_shared_regions\n",
    "    elif ('NeuroElectro' not in s) & ('ModelDB' in s):\n",
    "        options = n_m_regions\n",
    "    else:\n",
    "        options = primary_brain_regions\n",
    "    return [dcc.Dropdown(options = options, value = 'thalamus', id = 'primary_brain_region')]\n",
    "\n",
    "@app.callback([Output(component_id = 'NeuronMeasurementGraph', component_property = 'figure')],\n",
    "             [Input(component_id = 'primary_brain_region', component_property = 'value'),\n",
    "             Input(component_id = 'measurement', component_property = 'value'),\n",
    "             Input(component_id = 'log', component_property = 'on')])\n",
    "\n",
    "def NeuronMeasurement(primary_brain_region, measurement, log):\n",
    "    myquery = f'''\n",
    "    SELECT {measurement}\n",
    "    FROM neuron\n",
    "    WHERE primary_brain_region = '{primary_brain_region}'\n",
    "    '''\n",
    "    data = pd.read_sql_query(myquery, con = engine)\n",
    "    title = 'Box plot for Neuron ' + measurement + ' in the ' + primary_brain_region\n",
    "    if log:\n",
    "        xaxis = 'Log Measurement of ' + measurement\n",
    "    else:\n",
    "        xaxis = measurement\n",
    "    fig = px.box(x = data[measurement], log_x = log, title = title)\n",
    "    fig.update_layout(xaxis_title = xaxis)\n",
    "\n",
    "    return [fig]\n",
    "\n",
    "# Execution\n",
    "if __name__ == \"__main__\":\n",
    "    app.run_server(mode='external', host = '0.0.0.0', port = 8050, debug = True)"
   ]
  },
  {
   "cell_type": "code",
   "execution_count": null,
   "id": "1368d815-4b62-4879-8a4b-796ab1d784d2",
   "metadata": {},
   "outputs": [],
   "source": [
    "primary_brain_region = 'neocortex'\n",
    "myquery = f'''\n",
    "SELECT *\n",
    "FROM neuron\n",
    "WHERE primary_brain_region = '{primary_brain_region}'\n",
    "'''\n",
    "data = pd.read_sql_query(myquery, con = engine)"
   ]
  },
  {
   "cell_type": "code",
   "execution_count": 64,
   "id": "7beba441-5c96-4ba9-9fe8-08e258ae12e4",
   "metadata": {},
   "outputs": [
    {
     "name": "stdout",
     "output_type": "stream",
     "text": [
      "yes\n"
     ]
    }
   ],
   "source": [
    "test = ['NeuroMorpho', 'NeuroElectro', 'ModelDB']\n",
    "if ('ModelDB' in test) & ('NeuroElectro' in test):\n",
    "    print('yes')"
   ]
  },
  {
   "cell_type": "code",
   "execution_count": null,
   "id": "b099e4c7-d159-4c1b-99ef-ac41fb08c156",
   "metadata": {},
   "outputs": [],
   "source": [
    "neuron_columns = [x for x in data.columns]"
   ]
  },
  {
   "cell_type": "code",
   "execution_count": null,
   "id": "d407ba4c-a834-4bb5-bdbc-d32ac418b3f1",
   "metadata": {},
   "outputs": [],
   "source": [
    "data.columns"
   ]
  },
  {
   "cell_type": "code",
   "execution_count": null,
   "id": "9d7c0392-cc0f-41ca-b157-e3fb2dd77b9a",
   "metadata": {},
   "outputs": [],
   "source": [
    "# gender, age_classification, species, png_url, primary_brain_region, dendrites, soma, axon, processes, neurites, soma_surface, n_stems, n_biffs, n_branch, width, height, depth, diameter, length\n",
    "primary_brain_region = 'neocortex'\n",
    "myquery = f'''\n",
    "SELECT ROUND(AVG(soma_surface)) AS soma_surface,\n",
    "    ROUND(AVG(n_stems)) AS number_stems,\n",
    "    ROUND(AVG(n_bifs)) AS number_biffurcations,\n",
    "    ROUND(AVG(n_branch)) AS number_branches,\n",
    "    ROUND(AVG(width)) AS width,\n",
    "    ROUND(AVG(height)) AS height,\n",
    "    ROUND(AVG(depth)) AS depth,\n",
    "    ROUND(AVG(diameter)) AS diameter,\n",
    "    ROUND(AVG(length)) AS length\n",
    "FROM neuron\n",
    "WHERE primary_brain_region = '{primary_brain_region}'\n",
    "'''\n",
    "data = pd.read_sql_query(myquery, con = engine)\n",
    "data['primary_brain_region'] = pd.Series([primary_brain_region])\n",
    "\n",
    "table = ff.create_table(data[['primary_brain_region', 'soma_surface', 'number_stems', 'number_biffurcations',\n",
    "   'number_branches', 'width', 'height', 'depth', 'diameter', 'length']])"
   ]
  },
  {
   "cell_type": "code",
   "execution_count": null,
   "id": "94c4f026-3966-4ffc-b35f-8b10f8160f48",
   "metadata": {},
   "outputs": [],
   "source": [
    "primary_brain_region = 'neocortex'\n",
    "measurement = 'height'\n",
    "log = True\n",
    "myquery = f'''\n",
    "SELECT {measurement}\n",
    "FROM neuron\n",
    "WHERE primary_brain_region = '{primary_brain_region}'\n",
    "'''\n",
    "data = pd.read_sql_query(myquery, con = engine)\n",
    "title = 'Box plot for Neuron ' + measurement + ' in the ' + primary_brain_region\n",
    "if log:\n",
    "    xaxis = 'Log Measurement of ' + measurement\n",
    "else:\n",
    "    xaxis = measurement\n",
    "fig = px.box(x = data[measurement], log_x = log, title = title)\n",
    "fig.update_layout(xaxis_title = xaxis)"
   ]
  },
  {
   "cell_type": "code",
   "execution_count": null,
   "id": "d877718a-90c6-4909-9183-5a0d53f3c742",
   "metadata": {},
   "outputs": [],
   "source": [
    "primary_brain_region = 'neocortex'\n",
    "myquery = f'''\n",
    "SELECT n.neuron_id,\n",
    "    n.neuron_name AS Name, \n",
    "    n.primary_brain_region AS Region, \n",
    "    n.png_url,\n",
    "    nd.reference_doi AS DOI\n",
    "FROM neuron n\n",
    "INNER JOIN neuron_doi nd\n",
    "    ON n.neuron_id = nd.neuron_id\n",
    "WHERE primary_brain_region = '{primary_brain_region}' AND png_url IS NOT NULL\n",
    "'''\n",
    "data = pd.read_sql_query(myquery, con = engine)\n",
    "data.rename(columns = {'name': 'Name',\n",
    "                      'region': 'Region',\n",
    "                      'doi': 'DOI'}, inplace = True)\n",
    "\n",
    "url = data.sample()['png_url']\n",
    "ff.create_table(data[['Name', 'Region', 'DOI']])"
   ]
  }
 ],
 "metadata": {
  "kernelspec": {
   "display_name": "Python 3 (ipykernel)",
   "language": "python",
   "name": "python3"
  },
  "language_info": {
   "codemirror_mode": {
    "name": "ipython",
    "version": 3
   },
   "file_extension": ".py",
   "mimetype": "text/x-python",
   "name": "python",
   "nbconvert_exporter": "python",
   "pygments_lexer": "ipython3",
   "version": "3.11.4"
  }
 },
 "nbformat": 4,
 "nbformat_minor": 5
}
